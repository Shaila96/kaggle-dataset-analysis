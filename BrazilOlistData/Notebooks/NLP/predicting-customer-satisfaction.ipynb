{
 "cells": [
  {
   "cell_type": "markdown",
   "metadata": {
    "_uuid": "7a2447f9c70eb98a2f3bbba16cbf5393de5cce61"
   },
   "source": [
    "# Predicting Customer Satisfaction - Ecommerce Data\n",
    "Olist has released a dataset of 100k orders made between 2016 and 2018. Lets create a model to predict what's the score a customer will give for an order."
   ]
  },
  {
   "cell_type": "markdown",
   "metadata": {
    "_uuid": "a07553dca2b6952fa380a15c41cc4ca795e72d6a"
   },
   "source": [
    "# 1. Exploratory Data Analysis\n",
    "Some **EDAs (Exploratory Data Analysis)** were already made by other users and are publicly available at the dataset's kernels. That's why we're going to skip much of the EDA and jump into the problem[](http://). We recommend the following EDAs:\n",
    "* [E-Commerce Exploratory Analysis](https://www.kaggle.com/jsaguiar/e-commerce-exploratory-analysis) by [Aguiar](https://www.kaggle.com/jsaguiar)\n",
    "* [Data Cleaning, Viz and Stat Analysis on e-com](https://www.kaggle.com/goldendime/data-cleaning-viz-and-stat-analysis-on-e-com) by [Azim Salikhov](https://www.kaggle.com/goldendime)\n",
    "\n",
    "Those analysis help us understand what is happening with data. After we are confortable with it, and confident of its value we may start working on bigger problems. "
   ]
  },
  {
   "cell_type": "code",
   "execution_count": 13,
   "metadata": {
    "_uuid": "9f9f170dcada59322448b96a6108579c4d822c14"
   },
   "outputs": [],
   "source": [
    "import numpy as np # linear algebra\n",
    "import pandas as pd # data processing, CSV file I/O (e.g. pd.read_csv)\n",
    "import seaborn as sns\n",
    "import matplotlib.pyplot as plt\n",
    "import datetime as dt\n",
    "\n",
    "sns.set_context(\"notebook\", font_scale=1.5, rc={\"lines.linewidth\": 2.5})"
   ]
  },
  {
   "cell_type": "code",
   "execution_count": 96,
   "metadata": {},
   "outputs": [
    {
     "data": {
      "text/plain": [
       "Index(['review_id', 'order_id', 'review_score', 'review_comment_title',\n",
       "       'review_comment_message', 'review_creation_date',\n",
       "       'review_answer_timestamp', 'Unnamed: 0', 'customer_id', 'order_status',\n",
       "       'order_purchase_timestamp', 'order_approved_at',\n",
       "       'order_delivered_carrier_date', 'order_delivered_customer_date',\n",
       "       'order_estimated_delivery_date',\n",
       "       'order_purchase_timestamp_order_approved_at',\n",
       "       'order_approved_at_order_delivered_carrier_date',\n",
       "       'order_delivered_carrier_date_order_delivered_customer_date',\n",
       "       'order_purchase_timestamp_order_delivered_customer_date',\n",
       "       'order_purchase_weekday', 'customer_unique_id',\n",
       "       'customer_zip_code_prefix', 'customer_city', 'customer_state',\n",
       "       'index_x', 'geolocation_zip_code_prefix_x', 'geolocation_city_x',\n",
       "       'geolocation_state_x', 'geolocation_lat_x', 'geolocation_lng_x',\n",
       "       'order_item_id', 'product_id', 'seller_id', 'shipping_limit_date',\n",
       "       'price', 'freight_value', 'seller_zip_code_prefix', 'seller_city',\n",
       "       'seller_state', 'index_y', 'geolocation_zip_code_prefix_y',\n",
       "       'geolocation_city_y', 'geolocation_state_y', 'geolocation_lat_y',\n",
       "       'geolocation_lng_y'],\n",
       "      dtype='object')"
      ]
     },
     "execution_count": 96,
     "metadata": {},
     "output_type": "execute_result"
    }
   ],
   "source": [
    "review_df = pd.read_csv('../../Data/raw-data/olist_order_reviews_dataset.csv')\n",
    "order_geolocation_df = pd.read_csv('../../Data/curated-data/Orders_Items_Sellers_Customers_Geolocation.csv')\n",
    "order_item_payment_df = pd.read_csv('../../Data/curated-data/OrderItems_Products_Payments_Cluster.csv')\n",
    "\n",
    "\n",
    "review_order_geolocation_df = pd.merge(review_df, order_geolocation_df, on='order_id')\n",
    "review_order_geolocation_df.columns"
   ]
  },
  {
   "cell_type": "code",
   "execution_count": 97,
   "metadata": {},
   "outputs": [
    {
     "data": {
      "text/plain": [
       "Index(['review_id', 'order_id', 'review_score', 'review_comment_title',\n",
       "       'review_comment_message', 'review_creation_date',\n",
       "       'review_answer_timestamp', 'Unnamed: 0_x', 'customer_id_x',\n",
       "       'order_status_x', 'order_purchase_timestamp_x', 'order_approved_at_x',\n",
       "       'order_delivered_carrier_date_x', 'order_delivered_customer_date_x',\n",
       "       'order_estimated_delivery_date_x',\n",
       "       'order_purchase_timestamp_order_approved_at',\n",
       "       'order_approved_at_order_delivered_carrier_date',\n",
       "       'order_delivered_carrier_date_order_delivered_customer_date',\n",
       "       'order_purchase_timestamp_order_delivered_customer_date',\n",
       "       'order_purchase_weekday', 'customer_unique_id',\n",
       "       'customer_zip_code_prefix', 'customer_city', 'customer_state',\n",
       "       'index_x', 'geolocation_zip_code_prefix_x', 'geolocation_city_x',\n",
       "       'geolocation_state_x', 'geolocation_lat_x', 'geolocation_lng_x',\n",
       "       'order_item_id_x', 'product_id_x', 'seller_id_x',\n",
       "       'shipping_limit_date_x', 'price_x', 'freight_value_x',\n",
       "       'seller_zip_code_prefix', 'seller_city', 'seller_state', 'index_y',\n",
       "       'geolocation_zip_code_prefix_y', 'geolocation_city_y',\n",
       "       'geolocation_state_y', 'geolocation_lat_y', 'geolocation_lng_y',\n",
       "       'Unnamed: 0_y', 'order_item_id_y', 'product_id_y', 'seller_id_y',\n",
       "       'shipping_limit_date_y', 'price_y', 'freight_value_y',\n",
       "       'product_name_lenght', 'product_description_lenght',\n",
       "       'product_photos_qty', 'product_weight_g', 'product_length_cm',\n",
       "       'product_height_cm', 'product_width_cm',\n",
       "       'product_category_name_english', 'payment_sequential', 'payment_type',\n",
       "       'payment_installments', 'payment_value', 'customer_id_y',\n",
       "       'order_status_y', 'order_purchase_timestamp_y', 'order_approved_at_y',\n",
       "       'order_delivered_carrier_date_y', 'order_delivered_customer_date_y',\n",
       "       'order_estimated_delivery_date_y', 'Cluster'],\n",
       "      dtype='object')"
      ]
     },
     "execution_count": 97,
     "metadata": {},
     "output_type": "execute_result"
    }
   ],
   "source": [
    "orders = pd.merge(review_order_geolocation_df, order_item_payment_df, on='order_id')\n",
    "orders.columns"
   ]
  },
  {
   "cell_type": "code",
   "execution_count": 98,
   "metadata": {},
   "outputs": [
    {
     "data": {
      "text/plain": [
       "Index(['review_score', 'review_comment_title', 'review_comment_message',\n",
       "       'review_creation_date', 'review_answer_timestamp', 'order_status_x',\n",
       "       'order_purchase_timestamp_x', 'order_approved_at_x',\n",
       "       'order_delivered_carrier_date_x', 'order_delivered_customer_date_x',\n",
       "       'order_estimated_delivery_date_x',\n",
       "       'order_purchase_timestamp_order_approved_at',\n",
       "       'order_approved_at_order_delivered_carrier_date',\n",
       "       'order_delivered_carrier_date_order_delivered_customer_date',\n",
       "       'order_purchase_timestamp_order_delivered_customer_date',\n",
       "       'order_purchase_weekday', 'customer_zip_code_prefix', 'customer_city',\n",
       "       'customer_state', 'geolocation_zip_code_prefix_x', 'geolocation_city_x',\n",
       "       'geolocation_state_x', 'geolocation_lat_x', 'geolocation_lng_x',\n",
       "       'shipping_limit_date_x', 'price_x', 'freight_value_x',\n",
       "       'seller_zip_code_prefix', 'seller_city', 'seller_state',\n",
       "       'product_name_lenght', 'product_description_lenght',\n",
       "       'product_photos_qty', 'product_weight_g', 'product_length_cm',\n",
       "       'product_height_cm', 'product_width_cm',\n",
       "       'product_category_name_english', 'payment_sequential', 'payment_type',\n",
       "       'payment_installments', 'payment_value', 'Cluster'],\n",
       "      dtype='object')"
      ]
     },
     "execution_count": 98,
     "metadata": {},
     "output_type": "execute_result"
    }
   ],
   "source": [
    "# orders = orders[['order_id', \n",
    "#                  'review_score', \n",
    "#                  'review_comment_title',\n",
    "#                  'review_comment_message', \n",
    "#                  'review_creation_date',\n",
    "#                  'review_answer_timestamp', \n",
    "#                  'customer_id_x',\n",
    "#                  'order_status_x', \n",
    "#                  'order_purchase_timestamp_x', \n",
    "#                  'order_approved_at_x',\n",
    "#                  'order_delivered_carrier_date_x', \n",
    "#                  'order_delivered_customer_date_x',\n",
    "#                  'order_estimated_delivery_date_x',\n",
    "#                  'order_purchase_timestamp_order_approved_at',\n",
    "#                  'order_approved_at_order_delivered_carrier_date',\n",
    "#                  'order_delivered_carrier_date_order_delivered_customer_date',\n",
    "#                  'order_purchase_timestamp_order_delivered_customer_date',\n",
    "#                  'order_purchase_weekday', \n",
    "#                  'customer_unique_id',\n",
    "#                  'customer_zip_code_prefix', \n",
    "#                  'customer_city', \n",
    "#                  'customer_state',\n",
    "#                  'geolocation_zip_code_prefix_x', \n",
    "#                  'geolocation_city_x',\n",
    "#                  'geolocation_state_x', \n",
    "#                  'geolocation_lat_x', \n",
    "#                  'geolocation_lng_x',\n",
    "#                  'order_item_id_x', \n",
    "#                  'product_id_x', \n",
    "#                  'seller_id_x',\n",
    "#                  'shipping_limit_date_x', \n",
    "#                  'price_x', \n",
    "#                  'freight_value_x',\n",
    "#                  'seller_zip_code_prefix', \n",
    "#                  'seller_city', \n",
    "#                  'seller_state', \n",
    "#                  'product_name_lenght', \n",
    "#                  'product_description_lenght',\n",
    "#                  'product_photos_qty', \n",
    "#                  'product_weight_g', \n",
    "#                  'product_length_cm',\n",
    "#                  'product_height_cm', \n",
    "#                  'product_width_cm',\n",
    "#                  'product_category_name_english', \n",
    "#                  'payment_sequential', \n",
    "#                  'payment_type',\n",
    "#                  'payment_installments', \n",
    "#                  'payment_value',\n",
    "#                  'Cluster']]\n",
    "\n",
    "\n",
    "\n",
    "\n",
    "\n",
    "\n",
    "\n",
    "orders = orders[['review_score', \n",
    "                 'review_comment_title',\n",
    "                 'review_comment_message', \n",
    "                 'review_creation_date',\n",
    "                 'review_answer_timestamp', \n",
    "                 'order_status_x', \n",
    "                 'order_purchase_timestamp_x', \n",
    "                 'order_approved_at_x',\n",
    "                 'order_delivered_carrier_date_x', \n",
    "                 'order_delivered_customer_date_x',\n",
    "                 'order_estimated_delivery_date_x',\n",
    "                 'order_purchase_timestamp_order_approved_at',\n",
    "                 'order_approved_at_order_delivered_carrier_date',\n",
    "                 'order_delivered_carrier_date_order_delivered_customer_date',\n",
    "                 'order_purchase_timestamp_order_delivered_customer_date',\n",
    "                 'order_purchase_weekday', \n",
    "                 'customer_zip_code_prefix', \n",
    "                 'customer_city', \n",
    "                 'customer_state',\n",
    "                 'geolocation_zip_code_prefix_x', \n",
    "                 'geolocation_city_x',\n",
    "                 'geolocation_state_x', \n",
    "                 'geolocation_lat_x', \n",
    "                 'geolocation_lng_x',\n",
    "                 'shipping_limit_date_x', \n",
    "                 'price_x', \n",
    "                 'freight_value_x',\n",
    "                 'seller_zip_code_prefix', \n",
    "                 'seller_city', \n",
    "                 'seller_state', \n",
    "                 'product_name_lenght', \n",
    "                 'product_description_lenght',\n",
    "                 'product_photos_qty', \n",
    "                 'product_weight_g', \n",
    "                 'product_length_cm',\n",
    "                 'product_height_cm', \n",
    "                 'product_width_cm',\n",
    "                 'product_category_name_english', \n",
    "                 'payment_sequential', \n",
    "                 'payment_type',\n",
    "                 'payment_installments', \n",
    "                 'payment_value',\n",
    "                 'Cluster']]\n",
    "\n",
    "orders.columns"
   ]
  },
  {
   "cell_type": "code",
   "execution_count": 99,
   "metadata": {},
   "outputs": [
    {
     "data": {
      "text/plain": [
       "Index(['review_score', 'review_comment_title', 'review_comment_message',\n",
       "       'review_creation_date', 'review_answer_timestamp', 'order_status',\n",
       "       'order_purchase_timestamp', 'order_approved_at',\n",
       "       'order_delivered_carrier_date', 'order_delivered_customer_date',\n",
       "       'order_estimated_delivery_date',\n",
       "       'order_purchase_timestamp_order_approved_at',\n",
       "       'order_approved_at_order_delivered_carrier_date',\n",
       "       'order_delivered_carrier_date_order_delivered_customer_date',\n",
       "       'order_purchase_timestamp_order_delivered_customer_date',\n",
       "       'order_purchase_weekday', 'customer_zip_code_prefix', 'customer_city',\n",
       "       'customer_state', 'geolocation_zip_code_prefix', 'geolocation_city',\n",
       "       'geolocation_state', 'geolocation_lat', 'geolocation_lng',\n",
       "       'shipping_limit_date', 'price', 'freight_value',\n",
       "       'seller_zip_code_prefix', 'seller_city', 'seller_state',\n",
       "       'product_name_lenght', 'product_description_lenght',\n",
       "       'product_photos_qty', 'product_weight_g', 'product_length_cm',\n",
       "       'product_height_cm', 'product_width_cm',\n",
       "       'product_category_name_english', 'payment_sequential', 'payment_type',\n",
       "       'payment_installments', 'payment_value', 'Cluster'],\n",
       "      dtype='object')"
      ]
     },
     "execution_count": 99,
     "metadata": {},
     "output_type": "execute_result"
    }
   ],
   "source": [
    "# 'customer_id_x',\n",
    "# 'order_status_x', \n",
    "# 'order_purchase_timestamp_x', \n",
    "# 'order_approved_at_x',\n",
    "# 'order_delivered_carrier_date_x', \n",
    "# 'order_delivered_customer_date_x',\n",
    "# 'order_estimated_delivery_date_x',\n",
    "# 'geolocation_zip_code_prefix_x', \n",
    "# 'geolocation_city_x',\n",
    "# 'geolocation_state_x', \n",
    "# 'geolocation_lat_x', \n",
    "# 'geolocation_lng_x',\n",
    "# 'order_item_id_x', \n",
    "# 'product_id_x', \n",
    "# 'seller_id_x',\n",
    "# 'shipping_limit_date_x', \n",
    "# 'price_x', \n",
    "# 'freight_value_x'\n",
    "\n",
    "\n",
    "orders.rename(columns={'order_status_x': 'order_status',\n",
    "                       'order_purchase_timestamp_x': 'order_purchase_timestamp',\n",
    "                       'order_approved_at_x': 'order_approved_at',\n",
    "                       'order_delivered_carrier_date_x': 'order_delivered_carrier_date',\n",
    "                       'order_delivered_customer_date_x': 'order_delivered_customer_date',\n",
    "                       'order_estimated_delivery_date_x': 'order_estimated_delivery_date',\n",
    "                       'geolocation_zip_code_prefix_x': 'geolocation_zip_code_prefix',\n",
    "                       'geolocation_city_x': 'geolocation_city',\n",
    "                       'geolocation_state_x': 'geolocation_state',\n",
    "                       'geolocation_lat_x': 'geolocation_lat',\n",
    "                       'geolocation_lng_x': 'geolocation_lng',\n",
    "                       'shipping_limit_date_x': 'shipping_limit_date',\n",
    "                       'price_x': 'price',\n",
    "                       'freight_value_x': 'freight_value'}, inplace=True)\n",
    "\n",
    "\n",
    "orders.columns"
   ]
  },
  {
   "cell_type": "code",
   "execution_count": 100,
   "metadata": {},
   "outputs": [],
   "source": [
    "# orders = pd.read_csv('../../Data/raw-data/olist_orders_dataset.csv')\n",
    "# orders.head()"
   ]
  },
  {
   "cell_type": "code",
   "execution_count": 101,
   "metadata": {},
   "outputs": [],
   "source": [
    "# # get translations for category names\n",
    "# translation = pd.read_csv('../../Data/raw-data/product_category_name_translation.csv')\n",
    "# translation.head()"
   ]
  },
  {
   "cell_type": "code",
   "execution_count": 102,
   "metadata": {},
   "outputs": [
    {
     "data": {
      "text/html": [
       "<div>\n",
       "<style scoped>\n",
       "    .dataframe tbody tr th:only-of-type {\n",
       "        vertical-align: middle;\n",
       "    }\n",
       "\n",
       "    .dataframe tbody tr th {\n",
       "        vertical-align: top;\n",
       "    }\n",
       "\n",
       "    .dataframe thead th {\n",
       "        text-align: right;\n",
       "    }\n",
       "</style>\n",
       "<table border=\"1\" class=\"dataframe\">\n",
       "  <thead>\n",
       "    <tr style=\"text-align: right;\">\n",
       "      <th></th>\n",
       "      <th>review_score</th>\n",
       "      <th>review_comment_title</th>\n",
       "      <th>review_comment_message</th>\n",
       "      <th>review_creation_date</th>\n",
       "      <th>review_answer_timestamp</th>\n",
       "      <th>order_status</th>\n",
       "      <th>order_purchase_timestamp</th>\n",
       "      <th>order_approved_at</th>\n",
       "      <th>order_delivered_carrier_date</th>\n",
       "      <th>order_delivered_customer_date</th>\n",
       "      <th>...</th>\n",
       "      <th>product_length_cm</th>\n",
       "      <th>product_height_cm</th>\n",
       "      <th>product_width_cm</th>\n",
       "      <th>product_category_name_english</th>\n",
       "      <th>payment_sequential</th>\n",
       "      <th>payment_type</th>\n",
       "      <th>payment_installments</th>\n",
       "      <th>payment_value</th>\n",
       "      <th>Cluster</th>\n",
       "      <th>order_aproved_at</th>\n",
       "    </tr>\n",
       "  </thead>\n",
       "  <tbody>\n",
       "    <tr>\n",
       "      <td>0</td>\n",
       "      <td>4</td>\n",
       "      <td>NaN</td>\n",
       "      <td>NaN</td>\n",
       "      <td>2018-01-18 00:00:00</td>\n",
       "      <td>2018-01-18 21:46:59</td>\n",
       "      <td>delivered</td>\n",
       "      <td>2018-01-11 15:30:49</td>\n",
       "      <td>2018-01-11 15:47:59</td>\n",
       "      <td>2018-01-12 21:57:22</td>\n",
       "      <td>2018-01-17</td>\n",
       "      <td>...</td>\n",
       "      <td>30.0</td>\n",
       "      <td>30.0</td>\n",
       "      <td>35.0</td>\n",
       "      <td>sports_leisure</td>\n",
       "      <td>1</td>\n",
       "      <td>credit_card</td>\n",
       "      <td>8</td>\n",
       "      <td>397.26</td>\n",
       "      <td>3</td>\n",
       "      <td>2018-01-11</td>\n",
       "    </tr>\n",
       "    <tr>\n",
       "      <td>1</td>\n",
       "      <td>4</td>\n",
       "      <td>NaN</td>\n",
       "      <td>NaN</td>\n",
       "      <td>2018-01-18 00:00:00</td>\n",
       "      <td>2018-01-18 21:46:59</td>\n",
       "      <td>delivered</td>\n",
       "      <td>2018-01-11 15:30:49</td>\n",
       "      <td>2018-01-11 15:47:59</td>\n",
       "      <td>2018-01-12 21:57:22</td>\n",
       "      <td>2018-01-17</td>\n",
       "      <td>...</td>\n",
       "      <td>30.0</td>\n",
       "      <td>30.0</td>\n",
       "      <td>35.0</td>\n",
       "      <td>sports_leisure</td>\n",
       "      <td>1</td>\n",
       "      <td>credit_card</td>\n",
       "      <td>8</td>\n",
       "      <td>397.26</td>\n",
       "      <td>3</td>\n",
       "      <td>2018-01-11</td>\n",
       "    </tr>\n",
       "    <tr>\n",
       "      <td>2</td>\n",
       "      <td>4</td>\n",
       "      <td>NaN</td>\n",
       "      <td>NaN</td>\n",
       "      <td>2018-01-18 00:00:00</td>\n",
       "      <td>2018-01-18 21:46:59</td>\n",
       "      <td>delivered</td>\n",
       "      <td>2018-01-11 15:30:49</td>\n",
       "      <td>2018-01-11 15:47:59</td>\n",
       "      <td>2018-01-12 21:57:22</td>\n",
       "      <td>2018-01-17</td>\n",
       "      <td>...</td>\n",
       "      <td>30.0</td>\n",
       "      <td>30.0</td>\n",
       "      <td>35.0</td>\n",
       "      <td>sports_leisure</td>\n",
       "      <td>1</td>\n",
       "      <td>credit_card</td>\n",
       "      <td>8</td>\n",
       "      <td>397.26</td>\n",
       "      <td>3</td>\n",
       "      <td>2018-01-11</td>\n",
       "    </tr>\n",
       "  </tbody>\n",
       "</table>\n",
       "<p>3 rows × 44 columns</p>\n",
       "</div>"
      ],
      "text/plain": [
       "   review_score review_comment_title review_comment_message  \\\n",
       "0             4                  NaN                    NaN   \n",
       "1             4                  NaN                    NaN   \n",
       "2             4                  NaN                    NaN   \n",
       "\n",
       "  review_creation_date review_answer_timestamp order_status  \\\n",
       "0  2018-01-18 00:00:00     2018-01-18 21:46:59    delivered   \n",
       "1  2018-01-18 00:00:00     2018-01-18 21:46:59    delivered   \n",
       "2  2018-01-18 00:00:00     2018-01-18 21:46:59    delivered   \n",
       "\n",
       "  order_purchase_timestamp    order_approved_at order_delivered_carrier_date  \\\n",
       "0      2018-01-11 15:30:49  2018-01-11 15:47:59          2018-01-12 21:57:22   \n",
       "1      2018-01-11 15:30:49  2018-01-11 15:47:59          2018-01-12 21:57:22   \n",
       "2      2018-01-11 15:30:49  2018-01-11 15:47:59          2018-01-12 21:57:22   \n",
       "\n",
       "  order_delivered_customer_date  ... product_length_cm  product_height_cm  \\\n",
       "0                    2018-01-17  ...              30.0               30.0   \n",
       "1                    2018-01-17  ...              30.0               30.0   \n",
       "2                    2018-01-17  ...              30.0               30.0   \n",
       "\n",
       "  product_width_cm product_category_name_english payment_sequential  \\\n",
       "0             35.0                sports_leisure                  1   \n",
       "1             35.0                sports_leisure                  1   \n",
       "2             35.0                sports_leisure                  1   \n",
       "\n",
       "  payment_type  payment_installments payment_value Cluster  order_aproved_at  \n",
       "0  credit_card                     8        397.26       3        2018-01-11  \n",
       "1  credit_card                     8        397.26       3        2018-01-11  \n",
       "2  credit_card                     8        397.26       3        2018-01-11  \n",
       "\n",
       "[3 rows x 44 columns]"
      ]
     },
     "execution_count": 102,
     "metadata": {},
     "output_type": "execute_result"
    }
   ],
   "source": [
    "# converting to datetime\n",
    "orders['order_purchase_timestamp'] = pd.to_datetime(orders.order_purchase_timestamp)\n",
    "orders['order_aproved_at'] = pd.to_datetime(orders.order_approved_at).dt.date  \n",
    "orders['order_estimated_delivery_date'] = pd.to_datetime(orders.order_estimated_delivery_date).dt.date  \n",
    "orders['order_delivered_customer_date'] = pd.to_datetime(orders.order_delivered_customer_date).dt.date  \n",
    "\n",
    "\n",
    "# orders = orders.merge(translation, on='product_category_name').drop('product_category_name', axis=1)\n",
    "\n",
    "orders.head(3)"
   ]
  },
  {
   "cell_type": "markdown",
   "metadata": {
    "_uuid": "733d82df24c2a5d9b6afc21fd0b0c301080b6b44"
   },
   "source": [
    "# 2. Defining the Problem\n",
    "Let's say your manager asked you: \n",
    "\n",
    "**\"What is the probable score that we getting from customers?\"**\n",
    "\n",
    "Our problem is to find a way to estimate, based on data about the product and order, what will be the customer review score.\n",
    "\n",
    "# 3. The hypothesis\n",
    "Our main hypothesis is that the product and how the order was fulfilled might influence the customer review score. Keep in mind that each feature we create is a new hypothesis we are testing."
   ]
  },
  {
   "cell_type": "code",
   "execution_count": null,
   "metadata": {},
   "outputs": [],
   "source": []
  },
  {
   "cell_type": "markdown",
   "metadata": {
    "_uuid": "33a54498449c7fdfabd616bb45c0f38cbb97beef"
   },
   "source": [
    "# 4. Designing an Experiment\n",
    "To answer that question we must implement collect data from each order up to delivery phase. With that, we should implement a model that estimates what will be the score given by the customer at the review phase.\n",
    "\n",
    "![frame the problem](https://i.imgur.com/MTLzY55.png)\n",
    "\n",
    "####  How would you frame this problem? \n",
    "If you would try a different approach, please leave a comment or write a kernel!\n"
   ]
  },
  {
   "cell_type": "markdown",
   "metadata": {
    "_uuid": "2e832cf294b02b97d24a9d372af8acaae3589413"
   },
   "source": [
    "# a. Drop columns\n",
    "Some columns have information about the review given by a customer (review_coment_message, review_creation_date, etc), but we don't want to use that. Our experiment assumes we don't have any information about the review, so we need to predict the score before a customer writes it. There are also some columns that are unninformative to predict the customer satisfaction."
   ]
  },
  {
   "cell_type": "code",
   "execution_count": 103,
   "metadata": {
    "_uuid": "42d79f6724dca2dce1ea0d8c073aa30af6e2a4d5"
   },
   "outputs": [],
   "source": [
    "# orders = orders[['order_status', 'payment_value',\n",
    "#                  'order_freight_value', 'order_items_qty', 'order_sellers_qty',\n",
    "#                  'order_purchase_timestamp', 'order_aproved_at', 'order_estimated_delivery_date', \n",
    "#                  'order_delivered_customer_date', 'customer_state', \n",
    "#                  'product_category_name_english', 'product_name_lenght', 'product_description_lenght', \n",
    "#                  'product_photos_qty', 'review_score']]\n",
    "\n",
    "\n",
    "# ['order_id', 'review_score', 'review_comment_title',\n",
    "# 'review_comment_message', 'review_creation_date',\n",
    "# 'review_answer_timestamp', 'customer_id', 'order_status',\n",
    "# 'order_purchase_timestamp', 'order_approved_at',\n",
    "# 'order_delivered_carrier_date', 'order_delivered_customer_date',\n",
    "# 'order_estimated_delivery_date',\n",
    "# 'order_purchase_timestamp_order_approved_at',\n",
    "# 'order_approved_at_order_delivered_carrier_date',\n",
    "# 'order_delivered_carrier_date_order_delivered_customer_date',\n",
    "# 'order_purchase_timestamp_order_delivered_customer_date',\n",
    "# 'order_purchase_weekday', 'customer_unique_id',\n",
    "# 'customer_zip_code_prefix', 'customer_city', 'customer_state',\n",
    "# 'geolocation_zip_code_prefix', 'geolocation_city', 'geolocation_state',\n",
    "# 'geolocation_lat', 'geolocation_lng', 'order_item_id', 'product_id',\n",
    "# 'seller_id', 'shipping_limit_date', 'price', 'freight_value',\n",
    "# 'seller_zip_code_prefix', 'seller_city', 'seller_state',\n",
    "# 'product_name_lenght', 'product_description_lenght',\n",
    "# 'product_photos_qty', 'product_weight_g', 'product_length_cm',\n",
    "# 'product_height_cm', 'product_width_cm',\n",
    "# 'product_category_name_english', 'payment_sequential', 'payment_type',\n",
    "# 'payment_installments', 'payment_value', 'Cluster']"
   ]
  },
  {
   "cell_type": "code",
   "execution_count": 104,
   "metadata": {},
   "outputs": [],
   "source": [
    "# orders = orders[['review_score', \n",
    "#                  'product_photos_qty',\n",
    "#                  'product_weight_g', \n",
    "#                  'freight_value', \n",
    "#                  'product_height_cm',\n",
    "#                  'payment_installments', \n",
    "#                  'payment_value', \n",
    "#                  'order_purchase_timestamp_order_delivered_customer_date']]"
   ]
  },
  {
   "cell_type": "markdown",
   "metadata": {
    "_uuid": "bdca56e83efda75bcc04834b8942d8268cea7e9a"
   },
   "source": [
    "# b. Spliting the Dataset\n",
    "It is important that we split our data at the very beginning of our analysis. Doing that after might introduce some unwanted bias. \n",
    "\n",
    "> To split correctly, lets first see how classes are distributed over the full dataset."
   ]
  },
  {
   "cell_type": "code",
   "execution_count": 105,
   "metadata": {
    "_uuid": "2678292156690f532118c3d8ddb5c4cd1882d315"
   },
   "outputs": [
    {
     "data": {
      "text/plain": [
       "5    0.528449\n",
       "4    0.182034\n",
       "1    0.161517\n",
       "3    0.087576\n",
       "2    0.040425\n",
       "Name: review_score, dtype: float64"
      ]
     },
     "execution_count": 105,
     "metadata": {},
     "output_type": "execute_result"
    }
   ],
   "source": [
    "# We keep the same proportion of classes\n",
    "orders['review_score'].value_counts() / len(orders['review_score'])"
   ]
  },
  {
   "cell_type": "markdown",
   "metadata": {
    "_uuid": "ac6036f820f45484ba6ab7b50acbab8e5cfed8e2"
   },
   "source": [
    "## Simple split\n",
    "Lets first try a simple random split and lets see if the proportions are kept equal."
   ]
  },
  {
   "cell_type": "code",
   "execution_count": 106,
   "metadata": {
    "_uuid": "0c9afb0be2e3c3f0ab6000e5eafc7b4fcd4313eb"
   },
   "outputs": [],
   "source": [
    "from sklearn.model_selection import train_test_split\n",
    "\n",
    "# split\n",
    "train_set, test_set = train_test_split(orders, test_size=0.2, random_state=42)"
   ]
  },
  {
   "cell_type": "code",
   "execution_count": 107,
   "metadata": {
    "_uuid": "1de99a1ec657bee59a4ba2e1038de2c4b9f92b15"
   },
   "outputs": [
    {
     "data": {
      "text/plain": [
       "5    0.524965\n",
       "4    0.182322\n",
       "1    0.159609\n",
       "3    0.091372\n",
       "2    0.041733\n",
       "Name: review_score, dtype: float64"
      ]
     },
     "execution_count": 107,
     "metadata": {},
     "output_type": "execute_result"
    }
   ],
   "source": [
    "test_set['review_score'].value_counts() / len(test_set['review_score'])"
   ]
  },
  {
   "cell_type": "markdown",
   "metadata": {
    "_uuid": "baa1483fff0ffd9f6a393010c1000eeba774f41c"
   },
   "source": [
    "We see there is some difference between the proportion of each class compared to the original dataset.\n",
    "\n",
    "## Stratified Split\n",
    "Now lets do a stratified shuffle split and compare to the full dataset again."
   ]
  },
  {
   "cell_type": "code",
   "execution_count": 108,
   "metadata": {
    "_uuid": "4bd5d98b0e89049b8bff2274495ee0f576123ffb"
   },
   "outputs": [],
   "source": [
    "from sklearn.model_selection import StratifiedShuffleSplit\n",
    "\n",
    "# Stratified Split\n",
    "split = StratifiedShuffleSplit(n_splits=1, test_size=0.2, random_state=42)\n",
    "for train_index, test_index in split.split(orders, orders['review_score']):\n",
    "    strat_train_set = orders.loc[train_index]\n",
    "    strat_test_set = orders.loc[test_index]"
   ]
  },
  {
   "cell_type": "code",
   "execution_count": 109,
   "metadata": {
    "_uuid": "a3c11ffd8827b893dfabaf3450aeafe26d3f29d7"
   },
   "outputs": [
    {
     "data": {
      "text/plain": [
       "5    0.528453\n",
       "4    0.182035\n",
       "1    0.161516\n",
       "3    0.087575\n",
       "2    0.040422\n",
       "Name: review_score, dtype: float64"
      ]
     },
     "execution_count": 109,
     "metadata": {},
     "output_type": "execute_result"
    }
   ],
   "source": [
    "strat_train_set['review_score'].value_counts() / len(strat_train_set['review_score'])"
   ]
  },
  {
   "cell_type": "markdown",
   "metadata": {
    "_uuid": "d7e4a8a979b915ee0970044241a571830277143b"
   },
   "source": [
    "By doing a stratified split we keep the same proportion between classes. This split better represent the original data and will possibli reduce any bias. "
   ]
  },
  {
   "cell_type": "markdown",
   "metadata": {
    "_uuid": "e5ce440c5aa169bf2b8549bc36d89ddfbcd717c7"
   },
   "source": [
    "# c. Separate Labels From Features\n",
    "We don't wanto to apply any transformation to the labels (review_score). To avoid that we just create a separate serie with labels, and drop the target column from features dataset."
   ]
  },
  {
   "cell_type": "code",
   "execution_count": 110,
   "metadata": {
    "_uuid": "079f3152d8bc795cbf8d5f68c5eefbfc273c4bd1"
   },
   "outputs": [],
   "source": [
    "orders_features = strat_train_set.drop('review_score', axis=1)\n",
    "orders_labels = strat_train_set['review_score'].copy()"
   ]
  },
  {
   "cell_type": "markdown",
   "metadata": {
    "_uuid": "cbb09803d93addd6c893584d83ca21fbd1fff30d"
   },
   "source": [
    "# d. Feature Engineering\n",
    "If we see the original data there aren't many columns that are correlated to target."
   ]
  },
  {
   "cell_type": "code",
   "execution_count": 111,
   "metadata": {
    "_uuid": "a60da0fdce1feba66cea2c6c66394e313fad20de"
   },
   "outputs": [
    {
     "data": {
      "text/plain": [
       "review_score                                  1.000000\n",
       "seller_zip_code_prefix                        0.039651\n",
       "product_photos_qty                            0.039225\n",
       "product_description_lenght                    0.020525\n",
       "payment_sequential                            0.019195\n",
       "price                                         0.013318\n",
       "product_name_lenght                           0.000242\n",
       "product_width_cm                             -0.006348\n",
       "Cluster                                      -0.011615\n",
       "geolocation_lng                              -0.017487\n",
       "geolocation_lat                              -0.018457\n",
       "product_length_cm                            -0.023327\n",
       "geolocation_zip_code_prefix                  -0.026589\n",
       "customer_zip_code_prefix                     -0.026589\n",
       "product_weight_g                             -0.029277\n",
       "freight_value                                -0.029450\n",
       "product_height_cm                            -0.042216\n",
       "order_purchase_timestamp_order_approved_at   -0.047513\n",
       "payment_installments                         -0.048940\n",
       "payment_value                                -0.170389\n",
       "Name: review_score, dtype: float64"
      ]
     },
     "execution_count": 111,
     "metadata": {},
     "output_type": "execute_result"
    }
   ],
   "source": [
    "corr_matrix = strat_train_set.corr()\n",
    "corr_matrix['review_score'].sort_values(ascending=False)"
   ]
  },
  {
   "cell_type": "markdown",
   "metadata": {
    "_kg_hide-input": false,
    "_uuid": "92f02ddbbffe45a86adb87ccaaa703d878ba618d"
   },
   "source": [
    "It's clear that we have to create more informative features to model this problem.\n",
    "\n",
    "## Features Hypotesis\n",
    "\n",
    "#### Working Days Estimated Delivery Time\n",
    "Gets the days between order approval and estimated delivery date. A customer might be unsatisfied if he is told that the estimated time is big.\n",
    "\n",
    "#### Working Days Actual Delivery Time\n",
    "Gets the days between order approval and delivered customer date. A customer might be more satisfied if he gets the product faster.\n",
    "\n",
    "#### Working Days Delivery Time Delta\n",
    "The difference between the actual and estimated date.  If negative was delivered early, if positive was delivered late. A customer might be more satisfied if the order arrives sooner than expected, or unhappy if he receives after the deadline\n",
    "\n",
    "#### Is Late\n",
    "Binary variable indicating if the order was delivered after the estimated date.\n",
    "\n",
    "#### Average Product Value\n",
    "Cheaper products might have lower quality, leaving customers unhappy.\n",
    "\n",
    "#### Total Order Value\n",
    "If a customer expends more, he might expect a better order fulfilment.\n",
    "\n",
    "#### Order Freight Ratio\n",
    "If a customer pays more for freight, he might expect a better service.\n",
    "\n",
    "#### Purchase Day of Week\n",
    "Does it affect how happy are the customers?"
   ]
  },
  {
   "cell_type": "code",
   "execution_count": 112,
   "metadata": {
    "_uuid": "1d6e301394142bd1bcf07457443448ed2c672832"
   },
   "outputs": [
    {
     "data": {
      "image/png": "[encoded data removed]",
      "text/plain": [
       "<Figure size 1440x360 with 2 Axes>"
      ]
     },
     "metadata": {
      "needs_background": "light"
     },
     "output_type": "display_data"
    }
   ],
   "source": [
    "plt.figure(figsize=(20,5))\n",
    "sns.heatmap(corr_matrix)\n",
    "plt.show()"
   ]
  },
  {
   "cell_type": "code",
   "execution_count": 113,
   "metadata": {
    "_kg_hide-input": true,
    "_kg_hide-output": true,
    "_uuid": "6bbf95556239df41e3e1ae83aff6c41859daa302"
   },
   "outputs": [],
   "source": [
    "# To consider Brazilian calendar and holidays\n",
    "# !pip install workalendar\n",
    "\n",
    "from workalendar.america import Brazil\n",
    "\n",
    "cal = Brazil()"
   ]
  },
  {
   "cell_type": "markdown",
   "metadata": {
    "_uuid": "3a34d93bec720451fcf0677d6a9faee29eb001c6"
   },
   "source": [
    "## Creating a Custom Transformer for FeatEng\n",
    "We need to guarantee that we are apply exactly the same transformation to new/unseen data. To do that we will create custom transformers using scikit-learn BaseEstimator.\n",
    "\n",
    "This first custom transformer will do the feature engineering that we just described earlier."
   ]
  },
  {
   "cell_type": "code",
   "execution_count": 114,
   "metadata": {},
   "outputs": [
    {
     "data": {
      "text/plain": [
       "Index(['review_score', 'review_comment_title', 'review_comment_message',\n",
       "       'review_creation_date', 'review_answer_timestamp', 'order_status',\n",
       "       'order_purchase_timestamp', 'order_approved_at',\n",
       "       'order_delivered_carrier_date', 'order_delivered_customer_date',\n",
       "       'order_estimated_delivery_date',\n",
       "       'order_purchase_timestamp_order_approved_at',\n",
       "       'order_approved_at_order_delivered_carrier_date',\n",
       "       'order_delivered_carrier_date_order_delivered_customer_date',\n",
       "       'order_purchase_timestamp_order_delivered_customer_date',\n",
       "       'order_purchase_weekday', 'customer_zip_code_prefix', 'customer_city',\n",
       "       'customer_state', 'geolocation_zip_code_prefix', 'geolocation_city',\n",
       "       'geolocation_state', 'geolocation_lat', 'geolocation_lng',\n",
       "       'shipping_limit_date', 'price', 'freight_value',\n",
       "       'seller_zip_code_prefix', 'seller_city', 'seller_state',\n",
       "       'product_name_lenght', 'product_description_lenght',\n",
       "       'product_photos_qty', 'product_weight_g', 'product_length_cm',\n",
       "       'product_height_cm', 'product_width_cm',\n",
       "       'product_category_name_english', 'payment_sequential', 'payment_type',\n",
       "       'payment_installments', 'payment_value', 'Cluster', 'order_aproved_at'],\n",
       "      dtype='object')"
      ]
     },
     "execution_count": 114,
     "metadata": {},
     "output_type": "execute_result"
    }
   ],
   "source": [
    "orders.columns"
   ]
  },
  {
   "cell_type": "code",
   "execution_count": 117,
   "metadata": {},
   "outputs": [
    {
     "data": {
      "text/html": [
       "<div>\n",
       "<style scoped>\n",
       "    .dataframe tbody tr th:only-of-type {\n",
       "        vertical-align: middle;\n",
       "    }\n",
       "\n",
       "    .dataframe tbody tr th {\n",
       "        vertical-align: top;\n",
       "    }\n",
       "\n",
       "    .dataframe thead th {\n",
       "        text-align: right;\n",
       "    }\n",
       "</style>\n",
       "<table border=\"1\" class=\"dataframe\">\n",
       "  <thead>\n",
       "    <tr style=\"text-align: right;\">\n",
       "      <th></th>\n",
       "      <th>review_score</th>\n",
       "      <th>review_comment_title</th>\n",
       "      <th>review_comment_message</th>\n",
       "      <th>review_creation_date</th>\n",
       "      <th>review_answer_timestamp</th>\n",
       "      <th>order_status</th>\n",
       "      <th>order_purchase_timestamp</th>\n",
       "      <th>order_approved_at</th>\n",
       "      <th>order_delivered_carrier_date</th>\n",
       "      <th>order_delivered_customer_date</th>\n",
       "      <th>...</th>\n",
       "      <th>product_length_cm</th>\n",
       "      <th>product_height_cm</th>\n",
       "      <th>product_width_cm</th>\n",
       "      <th>product_category_name_english</th>\n",
       "      <th>payment_sequential</th>\n",
       "      <th>payment_type</th>\n",
       "      <th>payment_installments</th>\n",
       "      <th>payment_value</th>\n",
       "      <th>Cluster</th>\n",
       "      <th>order_aproved_at</th>\n",
       "    </tr>\n",
       "  </thead>\n",
       "  <tbody>\n",
       "    <tr>\n",
       "      <td>0</td>\n",
       "      <td>4</td>\n",
       "      <td>NaN</td>\n",
       "      <td>NaN</td>\n",
       "      <td>2018-01-18 00:00:00</td>\n",
       "      <td>2018-01-18 21:46:59</td>\n",
       "      <td>delivered</td>\n",
       "      <td>2018-01-11 15:30:49</td>\n",
       "      <td>2018-01-11 15:47:59</td>\n",
       "      <td>2018-01-12 21:57:22</td>\n",
       "      <td>2018-01-17</td>\n",
       "      <td>...</td>\n",
       "      <td>30.0</td>\n",
       "      <td>30.0</td>\n",
       "      <td>35.0</td>\n",
       "      <td>sports_leisure</td>\n",
       "      <td>1</td>\n",
       "      <td>credit_card</td>\n",
       "      <td>8</td>\n",
       "      <td>397.26</td>\n",
       "      <td>3</td>\n",
       "      <td>2018-01-11</td>\n",
       "    </tr>\n",
       "    <tr>\n",
       "      <td>1</td>\n",
       "      <td>4</td>\n",
       "      <td>NaN</td>\n",
       "      <td>NaN</td>\n",
       "      <td>2018-01-18 00:00:00</td>\n",
       "      <td>2018-01-18 21:46:59</td>\n",
       "      <td>delivered</td>\n",
       "      <td>2018-01-11 15:30:49</td>\n",
       "      <td>2018-01-11 15:47:59</td>\n",
       "      <td>2018-01-12 21:57:22</td>\n",
       "      <td>2018-01-17</td>\n",
       "      <td>...</td>\n",
       "      <td>30.0</td>\n",
       "      <td>30.0</td>\n",
       "      <td>35.0</td>\n",
       "      <td>sports_leisure</td>\n",
       "      <td>1</td>\n",
       "      <td>credit_card</td>\n",
       "      <td>8</td>\n",
       "      <td>397.26</td>\n",
       "      <td>3</td>\n",
       "      <td>2018-01-11</td>\n",
       "    </tr>\n",
       "    <tr>\n",
       "      <td>2</td>\n",
       "      <td>4</td>\n",
       "      <td>NaN</td>\n",
       "      <td>NaN</td>\n",
       "      <td>2018-01-18 00:00:00</td>\n",
       "      <td>2018-01-18 21:46:59</td>\n",
       "      <td>delivered</td>\n",
       "      <td>2018-01-11 15:30:49</td>\n",
       "      <td>2018-01-11 15:47:59</td>\n",
       "      <td>2018-01-12 21:57:22</td>\n",
       "      <td>2018-01-17</td>\n",
       "      <td>...</td>\n",
       "      <td>30.0</td>\n",
       "      <td>30.0</td>\n",
       "      <td>35.0</td>\n",
       "      <td>sports_leisure</td>\n",
       "      <td>1</td>\n",
       "      <td>credit_card</td>\n",
       "      <td>8</td>\n",
       "      <td>397.26</td>\n",
       "      <td>3</td>\n",
       "      <td>2018-01-11</td>\n",
       "    </tr>\n",
       "    <tr>\n",
       "      <td>3</td>\n",
       "      <td>4</td>\n",
       "      <td>NaN</td>\n",
       "      <td>NaN</td>\n",
       "      <td>2018-01-18 00:00:00</td>\n",
       "      <td>2018-01-18 21:46:59</td>\n",
       "      <td>delivered</td>\n",
       "      <td>2018-01-11 15:30:49</td>\n",
       "      <td>2018-01-11 15:47:59</td>\n",
       "      <td>2018-01-12 21:57:22</td>\n",
       "      <td>2018-01-17</td>\n",
       "      <td>...</td>\n",
       "      <td>30.0</td>\n",
       "      <td>30.0</td>\n",
       "      <td>35.0</td>\n",
       "      <td>sports_leisure</td>\n",
       "      <td>1</td>\n",
       "      <td>credit_card</td>\n",
       "      <td>8</td>\n",
       "      <td>397.26</td>\n",
       "      <td>3</td>\n",
       "      <td>2018-01-11</td>\n",
       "    </tr>\n",
       "    <tr>\n",
       "      <td>4</td>\n",
       "      <td>5</td>\n",
       "      <td>NaN</td>\n",
       "      <td>NaN</td>\n",
       "      <td>2018-03-10 00:00:00</td>\n",
       "      <td>2018-03-11 03:05:13</td>\n",
       "      <td>delivered</td>\n",
       "      <td>2018-02-28 12:25:19</td>\n",
       "      <td>2018-02-28 12:48:39</td>\n",
       "      <td>2018-03-02 19:08:15</td>\n",
       "      <td>2018-03-09</td>\n",
       "      <td>...</td>\n",
       "      <td>19.0</td>\n",
       "      <td>14.0</td>\n",
       "      <td>14.0</td>\n",
       "      <td>computers_accessories</td>\n",
       "      <td>1</td>\n",
       "      <td>credit_card</td>\n",
       "      <td>1</td>\n",
       "      <td>88.09</td>\n",
       "      <td>3</td>\n",
       "      <td>2018-02-28</td>\n",
       "    </tr>\n",
       "  </tbody>\n",
       "</table>\n",
       "<p>5 rows × 44 columns</p>\n",
       "</div>"
      ],
      "text/plain": [
       "   review_score review_comment_title review_comment_message  \\\n",
       "0             4                  NaN                    NaN   \n",
       "1             4                  NaN                    NaN   \n",
       "2             4                  NaN                    NaN   \n",
       "3             4                  NaN                    NaN   \n",
       "4             5                  NaN                    NaN   \n",
       "\n",
       "  review_creation_date review_answer_timestamp order_status  \\\n",
       "0  2018-01-18 00:00:00     2018-01-18 21:46:59    delivered   \n",
       "1  2018-01-18 00:00:00     2018-01-18 21:46:59    delivered   \n",
       "2  2018-01-18 00:00:00     2018-01-18 21:46:59    delivered   \n",
       "3  2018-01-18 00:00:00     2018-01-18 21:46:59    delivered   \n",
       "4  2018-03-10 00:00:00     2018-03-11 03:05:13    delivered   \n",
       "\n",
       "  order_purchase_timestamp    order_approved_at order_delivered_carrier_date  \\\n",
       "0      2018-01-11 15:30:49  2018-01-11 15:47:59          2018-01-12 21:57:22   \n",
       "1      2018-01-11 15:30:49  2018-01-11 15:47:59          2018-01-12 21:57:22   \n",
       "2      2018-01-11 15:30:49  2018-01-11 15:47:59          2018-01-12 21:57:22   \n",
       "3      2018-01-11 15:30:49  2018-01-11 15:47:59          2018-01-12 21:57:22   \n",
       "4      2018-02-28 12:25:19  2018-02-28 12:48:39          2018-03-02 19:08:15   \n",
       "\n",
       "  order_delivered_customer_date  ... product_length_cm  product_height_cm  \\\n",
       "0                    2018-01-17  ...              30.0               30.0   \n",
       "1                    2018-01-17  ...              30.0               30.0   \n",
       "2                    2018-01-17  ...              30.0               30.0   \n",
       "3                    2018-01-17  ...              30.0               30.0   \n",
       "4                    2018-03-09  ...              19.0               14.0   \n",
       "\n",
       "  product_width_cm product_category_name_english payment_sequential  \\\n",
       "0             35.0                sports_leisure                  1   \n",
       "1             35.0                sports_leisure                  1   \n",
       "2             35.0                sports_leisure                  1   \n",
       "3             35.0                sports_leisure                  1   \n",
       "4             14.0         computers_accessories                  1   \n",
       "\n",
       "  payment_type  payment_installments payment_value Cluster  order_aproved_at  \n",
       "0  credit_card                     8        397.26       3        2018-01-11  \n",
       "1  credit_card                     8        397.26       3        2018-01-11  \n",
       "2  credit_card                     8        397.26       3        2018-01-11  \n",
       "3  credit_card                     8        397.26       3        2018-01-11  \n",
       "4  credit_card                     1         88.09       3        2018-02-28  \n",
       "\n",
       "[5 rows x 44 columns]"
      ]
     },
     "execution_count": 117,
     "metadata": {},
     "output_type": "execute_result"
    }
   ],
   "source": [
    "orders.head()"
   ]
  },
  {
   "cell_type": "code",
   "execution_count": 125,
   "metadata": {},
   "outputs": [
    {
     "name": "stdout",
     "output_type": "stream",
     "text": [
      "<class 'pandas.core.frame.DataFrame'>\n",
      "Int64Index: 154312 entries, 0 to 154311\n",
      "Data columns (total 44 columns):\n",
      "review_score                                                  154312 non-null int64\n",
      "review_comment_title                                          19448 non-null object\n",
      "review_comment_message                                        69910 non-null object\n",
      "review_creation_date                                          154312 non-null object\n",
      "review_answer_timestamp                                       154312 non-null object\n",
      "order_status                                                  154312 non-null object\n",
      "order_purchase_timestamp                                      154312 non-null datetime64[ns]\n",
      "order_approved_at                                             154312 non-null datetime64[ns]\n",
      "order_delivered_carrier_date                                  154312 non-null object\n",
      "order_delivered_customer_date                                 154312 non-null datetime64[ns]\n",
      "order_estimated_delivery_date                                 154312 non-null datetime64[ns]\n",
      "order_purchase_timestamp_order_approved_at                    154312 non-null float64\n",
      "order_approved_at_order_delivered_carrier_date                154312 non-null object\n",
      "order_delivered_carrier_date_order_delivered_customer_date    154312 non-null object\n",
      "order_purchase_timestamp_order_delivered_customer_date        154312 non-null object\n",
      "order_purchase_weekday                                        154312 non-null object\n",
      "customer_zip_code_prefix                                      154312 non-null int64\n",
      "customer_city                                                 154312 non-null object\n",
      "customer_state                                                154312 non-null object\n",
      "geolocation_zip_code_prefix                                   154312 non-null int64\n",
      "geolocation_city                                              154312 non-null object\n",
      "geolocation_state                                             154312 non-null object\n",
      "geolocation_lat                                               154312 non-null float64\n",
      "geolocation_lng                                               154312 non-null float64\n",
      "shipping_limit_date                                           154312 non-null object\n",
      "price                                                         154312 non-null float64\n",
      "freight_value                                                 154312 non-null float64\n",
      "seller_zip_code_prefix                                        154312 non-null int64\n",
      "seller_city                                                   154312 non-null object\n",
      "seller_state                                                  154312 non-null object\n",
      "product_name_lenght                                           154312 non-null float64\n",
      "product_description_lenght                                    154312 non-null float64\n",
      "product_photos_qty                                            154312 non-null float64\n",
      "product_weight_g                                              154312 non-null float64\n",
      "product_length_cm                                             154312 non-null float64\n",
      "product_height_cm                                             154312 non-null float64\n",
      "product_width_cm                                              154312 non-null float64\n",
      "product_category_name_english                                 154312 non-null object\n",
      "payment_sequential                                            154312 non-null int64\n",
      "payment_type                                                  154312 non-null object\n",
      "payment_installments                                          154312 non-null int64\n",
      "payment_value                                                 154312 non-null float64\n",
      "Cluster                                                       154312 non-null int64\n",
      "order_aproved_at                                              154312 non-null object\n",
      "dtypes: datetime64[ns](4), float64(13), int64(7), object(20)\n",
      "memory usage: 58.0+ MB\n"
     ]
    }
   ],
   "source": [
    "orders['order_approved_at'] = pd.to_datetime(orders['order_approved_at'])\n",
    "orders['order_estimated_delivery_date'] = pd.to_datetime(orders['order_estimated_delivery_date'])\n",
    "orders['order_delivered_customer_date'] = pd.to_datetime(orders['order_delivered_customer_date'])\n",
    "\n",
    "orders.info()"
   ]
  },
  {
   "cell_type": "code",
   "execution_count": 134,
   "metadata": {},
   "outputs": [
    {
     "data": {
      "text/plain": [
       "pandas._libs.tslibs.timestamps.Timestamp"
      ]
     },
     "execution_count": 134,
     "metadata": {},
     "output_type": "execute_result"
    }
   ],
   "source": [
    "type(orders['order_approved_at'][0])\n",
    "\n",
    "# orders['order_approved_at'] = pd.to_datetime(orders['order_approved_at'])\n",
    "# orders['order_estimated_delivery_date'] = pd.to_datetime(orders['order_estimated_delivery_date'])\n",
    "# orders['order_delivered_customer_date'] = pd.to_datetime(orders['order_delivered_customer_date'])\n"
   ]
  },
  {
   "cell_type": "code",
   "execution_count": 173,
   "metadata": {
    "_uuid": "95d67673cfa37dbb1869c5a62de43a5265da63e4"
   },
   "outputs": [],
   "source": [
    "from sklearn.base import BaseEstimator, TransformerMixin\n",
    "\n",
    "class AttributesAdder(BaseEstimator, TransformerMixin):\n",
    "    def __init__(self):\n",
    "        pass    \n",
    "    \n",
    "    def fit(self, X, y=None):\n",
    "        return self\n",
    "    \n",
    "    def transform(self, X, y=None):\n",
    "        df = X.copy()\n",
    "        \n",
    "        # Calculate the estimated delivery time and actual delivery time in working days. \n",
    "        # This would allow us to exclude hollidays that could influence delivery times.\n",
    "        # If the order_delivered_customer_date is null, it returns 0.\n",
    "#         df['wd_estimated_delivery_time'] = df.apply(lambda x: cal.get_working_days_delta(x.order_approved_at, x.order_estimated_delivery_date), axis=1)\n",
    "#         df['wd_actual_delivery_time'] = df.apply(lambda x: cal.get_working_days_delta(x.order_approved_at, x.order_delivered_customer_date), axis=1)\n",
    "\n",
    "        \n",
    "        df['wd_estimated_delivery_time'] = pd.to_datetime(df.order_approved_at).dt.date - pd.to_datetime(df.order_estimated_delivery_date).dt.date\n",
    "        df['wd_actual_delivery_time'] = pd.to_datetime(df.order_approved_at).dt.date - pd.to_datetime(df.order_delivered_customer_date).dt.date\n",
    "        \n",
    "        \n",
    "        # Calculate the time between the actual and estimated delivery date. If negative was delivered early, if positive was delivered late.\n",
    "        df['wd_delivery_time_delta'] = df.wd_actual_delivery_time - df.wd_estimated_delivery_time\n",
    "\n",
    "\n",
    "        # Calculate the time between the actual and estimated delivery date. If negative was delivered early, if positive was delivered late.\n",
    "        df['is_late'] = df.order_delivered_customer_date > df.order_estimated_delivery_date\n",
    "        \n",
    "        # Calculate the average product value.\n",
    "        # df['average_product_value'] = df.price / df.order_items_qty\n",
    "\n",
    "        # Calculate the total order value\n",
    "        df['total_order_value'] = df.price + df.freight_value\n",
    "        \n",
    "        # Calculate the order freight ratio.\n",
    "        df['order_freight_ratio'] = df.freight_value / df.price\n",
    "        \n",
    "        # Calculate the order freight ratio.\n",
    "        df['purchase_dayofweek'] = df.order_purchase_timestamp.dt.dayofweek\n",
    "                       \n",
    "        # With that we can remove the timestamps from the dataset\n",
    "        cols2drop = ['order_purchase_timestamp', 'order_aproved_at', 'order_estimated_delivery_date', 'order_delivered_customer_date']\n",
    "        df.drop(cols2drop, axis=1, inplace=True)\n",
    "        \n",
    "        return df[['product_photos_qty', \n",
    "                   'product_description_lenght', \n",
    "                   'product_weight_g', \n",
    "                   'freight_value', \n",
    "                   'product_height_cm',\n",
    "                   'payment_installments',\n",
    "                   'order_freight_ratio',\n",
    "                   'payment_value',\n",
    "                   'is_late']]"
   ]
  },
  {
   "cell_type": "markdown",
   "metadata": {
    "_uuid": "746fea0aeb43ce3957cf27ab6921b1cc0cf3292b"
   },
   "source": [
    "### New Features - Working Days\n",
    "Analysing the dataframe we see that the new features were succesfully created."
   ]
  },
  {
   "cell_type": "code",
   "execution_count": 174,
   "metadata": {
    "_uuid": "1874b250373bbee28a8dc6cea4e80e5b29cc4d69"
   },
   "outputs": [
    {
     "data": {
      "text/html": [
       "<div>\n",
       "<style scoped>\n",
       "    .dataframe tbody tr th:only-of-type {\n",
       "        vertical-align: middle;\n",
       "    }\n",
       "\n",
       "    .dataframe tbody tr th {\n",
       "        vertical-align: top;\n",
       "    }\n",
       "\n",
       "    .dataframe thead th {\n",
       "        text-align: right;\n",
       "    }\n",
       "</style>\n",
       "<table border=\"1\" class=\"dataframe\">\n",
       "  <thead>\n",
       "    <tr style=\"text-align: right;\">\n",
       "      <th></th>\n",
       "      <th>product_photos_qty</th>\n",
       "      <th>product_description_lenght</th>\n",
       "      <th>product_weight_g</th>\n",
       "      <th>freight_value</th>\n",
       "      <th>product_height_cm</th>\n",
       "      <th>payment_installments</th>\n",
       "      <th>order_freight_ratio</th>\n",
       "      <th>payment_value</th>\n",
       "      <th>is_late</th>\n",
       "    </tr>\n",
       "  </thead>\n",
       "  <tbody>\n",
       "    <tr>\n",
       "      <td>73875</td>\n",
       "      <td>4.0</td>\n",
       "      <td>1159.0</td>\n",
       "      <td>350.0</td>\n",
       "      <td>34.19</td>\n",
       "      <td>14.0</td>\n",
       "      <td>1</td>\n",
       "      <td>0.621636</td>\n",
       "      <td>356.76</td>\n",
       "      <td>False</td>\n",
       "    </tr>\n",
       "    <tr>\n",
       "      <td>138300</td>\n",
       "      <td>7.0</td>\n",
       "      <td>93.0</td>\n",
       "      <td>250.0</td>\n",
       "      <td>7.39</td>\n",
       "      <td>2.0</td>\n",
       "      <td>1</td>\n",
       "      <td>0.150816</td>\n",
       "      <td>53.12</td>\n",
       "      <td>False</td>\n",
       "    </tr>\n",
       "    <tr>\n",
       "      <td>61367</td>\n",
       "      <td>10.0</td>\n",
       "      <td>1774.0</td>\n",
       "      <td>6900.0</td>\n",
       "      <td>14.32</td>\n",
       "      <td>69.0</td>\n",
       "      <td>1</td>\n",
       "      <td>0.220647</td>\n",
       "      <td>237.67</td>\n",
       "      <td>False</td>\n",
       "    </tr>\n",
       "  </tbody>\n",
       "</table>\n",
       "</div>"
      ],
      "text/plain": [
       "        product_photos_qty  product_description_lenght  product_weight_g  \\\n",
       "73875                  4.0                      1159.0             350.0   \n",
       "138300                 7.0                        93.0             250.0   \n",
       "61367                 10.0                      1774.0            6900.0   \n",
       "\n",
       "        freight_value  product_height_cm  payment_installments  \\\n",
       "73875           34.19               14.0                     1   \n",
       "138300           7.39                2.0                     1   \n",
       "61367           14.32               69.0                     1   \n",
       "\n",
       "        order_freight_ratio  payment_value  is_late  \n",
       "73875              0.621636         356.76    False  \n",
       "138300             0.150816          53.12    False  \n",
       "61367              0.220647         237.67    False  "
      ]
     },
     "execution_count": 174,
     "metadata": {},
     "output_type": "execute_result"
    }
   ],
   "source": [
    "# Executing the estimator we just created\n",
    "attr_adder = AttributesAdder()\n",
    "feat_eng = attr_adder.transform(strat_train_set)\n",
    "feat_eng.head(3)"
   ]
  },
  {
   "cell_type": "markdown",
   "metadata": {
    "_uuid": "9ad62d52c592636fca1c32f55bfc3fcfb5358d8c"
   },
   "source": [
    "### Correlation\n",
    "What is the correlation of the features we have just created with the review score?"
   ]
  },
  {
   "cell_type": "code",
   "execution_count": 209,
   "metadata": {
    "_uuid": "63cd97253a7af0bec9cf96691df54f93751c1ca2"
   },
   "outputs": [
    {
     "ename": "KeyError",
     "evalue": "'review_score'",
     "output_type": "error",
     "traceback": [
      "\u001b[0;31m---------------------------------------------------------------------------\u001b[0m",
      "\u001b[0;31mKeyError\u001b[0m                                  Traceback (most recent call last)",
      "\u001b[0;32m~/opt/anaconda3/lib/python3.7/site-packages/pandas/core/indexes/base.py\u001b[0m in \u001b[0;36mget_loc\u001b[0;34m(self, key, method, tolerance)\u001b[0m\n\u001b[1;32m   2896\u001b[0m             \u001b[0;32mtry\u001b[0m\u001b[0;34m:\u001b[0m\u001b[0;34m\u001b[0m\u001b[0;34m\u001b[0m\u001b[0m\n\u001b[0;32m-> 2897\u001b[0;31m                 \u001b[0;32mreturn\u001b[0m \u001b[0mself\u001b[0m\u001b[0;34m.\u001b[0m\u001b[0m_engine\u001b[0m\u001b[0;34m.\u001b[0m\u001b[0mget_loc\u001b[0m\u001b[0;34m(\u001b[0m\u001b[0mkey\u001b[0m\u001b[0;34m)\u001b[0m\u001b[0;34m\u001b[0m\u001b[0;34m\u001b[0m\u001b[0m\n\u001b[0m\u001b[1;32m   2898\u001b[0m             \u001b[0;32mexcept\u001b[0m \u001b[0mKeyError\u001b[0m\u001b[0;34m:\u001b[0m\u001b[0;34m\u001b[0m\u001b[0;34m\u001b[0m\u001b[0m\n",
      "\u001b[0;32mpandas/_libs/index.pyx\u001b[0m in \u001b[0;36mpandas._libs.index.IndexEngine.get_loc\u001b[0;34m()\u001b[0m\n",
      "\u001b[0;32mpandas/_libs/index.pyx\u001b[0m in \u001b[0;36mpandas._libs.index.IndexEngine.get_loc\u001b[0;34m()\u001b[0m\n",
      "\u001b[0;32mpandas/_libs/hashtable_class_helper.pxi\u001b[0m in \u001b[0;36mpandas._libs.hashtable.PyObjectHashTable.get_item\u001b[0;34m()\u001b[0m\n",
      "\u001b[0;32mpandas/_libs/hashtable_class_helper.pxi\u001b[0m in \u001b[0;36mpandas._libs.hashtable.PyObjectHashTable.get_item\u001b[0;34m()\u001b[0m\n",
      "\u001b[0;31mKeyError\u001b[0m: 'review_score'",
      "\nDuring handling of the above exception, another exception occurred:\n",
      "\u001b[0;31mKeyError\u001b[0m                                  Traceback (most recent call last)",
      "\u001b[0;32m<ipython-input-209-f03f090ae6ec>\u001b[0m in \u001b[0;36m<module>\u001b[0;34m\u001b[0m\n\u001b[1;32m      1\u001b[0m \u001b[0mcorr_matrix\u001b[0m \u001b[0;34m=\u001b[0m \u001b[0mfeat_eng\u001b[0m\u001b[0;34m.\u001b[0m\u001b[0mcorr\u001b[0m\u001b[0;34m(\u001b[0m\u001b[0;34m)\u001b[0m\u001b[0;34m\u001b[0m\u001b[0;34m\u001b[0m\u001b[0m\n\u001b[0;32m----> 2\u001b[0;31m \u001b[0mcorr_matrix\u001b[0m\u001b[0;34m[\u001b[0m\u001b[0;34m'review_score'\u001b[0m\u001b[0;34m]\u001b[0m\u001b[0;34m.\u001b[0m\u001b[0msort_values\u001b[0m\u001b[0;34m(\u001b[0m\u001b[0mascending\u001b[0m\u001b[0;34m=\u001b[0m\u001b[0;32mFalse\u001b[0m\u001b[0;34m)\u001b[0m\u001b[0;34m\u001b[0m\u001b[0;34m\u001b[0m\u001b[0m\n\u001b[0m",
      "\u001b[0;32m~/opt/anaconda3/lib/python3.7/site-packages/pandas/core/frame.py\u001b[0m in \u001b[0;36m__getitem__\u001b[0;34m(self, key)\u001b[0m\n\u001b[1;32m   2978\u001b[0m             \u001b[0;32mif\u001b[0m \u001b[0mself\u001b[0m\u001b[0;34m.\u001b[0m\u001b[0mcolumns\u001b[0m\u001b[0;34m.\u001b[0m\u001b[0mnlevels\u001b[0m \u001b[0;34m>\u001b[0m \u001b[0;36m1\u001b[0m\u001b[0;34m:\u001b[0m\u001b[0;34m\u001b[0m\u001b[0;34m\u001b[0m\u001b[0m\n\u001b[1;32m   2979\u001b[0m                 \u001b[0;32mreturn\u001b[0m \u001b[0mself\u001b[0m\u001b[0;34m.\u001b[0m\u001b[0m_getitem_multilevel\u001b[0m\u001b[0;34m(\u001b[0m\u001b[0mkey\u001b[0m\u001b[0;34m)\u001b[0m\u001b[0;34m\u001b[0m\u001b[0;34m\u001b[0m\u001b[0m\n\u001b[0;32m-> 2980\u001b[0;31m             \u001b[0mindexer\u001b[0m \u001b[0;34m=\u001b[0m \u001b[0mself\u001b[0m\u001b[0;34m.\u001b[0m\u001b[0mcolumns\u001b[0m\u001b[0;34m.\u001b[0m\u001b[0mget_loc\u001b[0m\u001b[0;34m(\u001b[0m\u001b[0mkey\u001b[0m\u001b[0;34m)\u001b[0m\u001b[0;34m\u001b[0m\u001b[0;34m\u001b[0m\u001b[0m\n\u001b[0m\u001b[1;32m   2981\u001b[0m             \u001b[0;32mif\u001b[0m \u001b[0mis_integer\u001b[0m\u001b[0;34m(\u001b[0m\u001b[0mindexer\u001b[0m\u001b[0;34m)\u001b[0m\u001b[0;34m:\u001b[0m\u001b[0;34m\u001b[0m\u001b[0;34m\u001b[0m\u001b[0m\n\u001b[1;32m   2982\u001b[0m                 \u001b[0mindexer\u001b[0m \u001b[0;34m=\u001b[0m \u001b[0;34m[\u001b[0m\u001b[0mindexer\u001b[0m\u001b[0;34m]\u001b[0m\u001b[0;34m\u001b[0m\u001b[0;34m\u001b[0m\u001b[0m\n",
      "\u001b[0;32m~/opt/anaconda3/lib/python3.7/site-packages/pandas/core/indexes/base.py\u001b[0m in \u001b[0;36mget_loc\u001b[0;34m(self, key, method, tolerance)\u001b[0m\n\u001b[1;32m   2897\u001b[0m                 \u001b[0;32mreturn\u001b[0m \u001b[0mself\u001b[0m\u001b[0;34m.\u001b[0m\u001b[0m_engine\u001b[0m\u001b[0;34m.\u001b[0m\u001b[0mget_loc\u001b[0m\u001b[0;34m(\u001b[0m\u001b[0mkey\u001b[0m\u001b[0;34m)\u001b[0m\u001b[0;34m\u001b[0m\u001b[0;34m\u001b[0m\u001b[0m\n\u001b[1;32m   2898\u001b[0m             \u001b[0;32mexcept\u001b[0m \u001b[0mKeyError\u001b[0m\u001b[0;34m:\u001b[0m\u001b[0;34m\u001b[0m\u001b[0;34m\u001b[0m\u001b[0m\n\u001b[0;32m-> 2899\u001b[0;31m                 \u001b[0;32mreturn\u001b[0m \u001b[0mself\u001b[0m\u001b[0;34m.\u001b[0m\u001b[0m_engine\u001b[0m\u001b[0;34m.\u001b[0m\u001b[0mget_loc\u001b[0m\u001b[0;34m(\u001b[0m\u001b[0mself\u001b[0m\u001b[0;34m.\u001b[0m\u001b[0m_maybe_cast_indexer\u001b[0m\u001b[0;34m(\u001b[0m\u001b[0mkey\u001b[0m\u001b[0;34m)\u001b[0m\u001b[0;34m)\u001b[0m\u001b[0;34m\u001b[0m\u001b[0;34m\u001b[0m\u001b[0m\n\u001b[0m\u001b[1;32m   2900\u001b[0m         \u001b[0mindexer\u001b[0m \u001b[0;34m=\u001b[0m \u001b[0mself\u001b[0m\u001b[0;34m.\u001b[0m\u001b[0mget_indexer\u001b[0m\u001b[0;34m(\u001b[0m\u001b[0;34m[\u001b[0m\u001b[0mkey\u001b[0m\u001b[0;34m]\u001b[0m\u001b[0;34m,\u001b[0m \u001b[0mmethod\u001b[0m\u001b[0;34m=\u001b[0m\u001b[0mmethod\u001b[0m\u001b[0;34m,\u001b[0m \u001b[0mtolerance\u001b[0m\u001b[0;34m=\u001b[0m\u001b[0mtolerance\u001b[0m\u001b[0;34m)\u001b[0m\u001b[0;34m\u001b[0m\u001b[0;34m\u001b[0m\u001b[0m\n\u001b[1;32m   2901\u001b[0m         \u001b[0;32mif\u001b[0m \u001b[0mindexer\u001b[0m\u001b[0;34m.\u001b[0m\u001b[0mndim\u001b[0m \u001b[0;34m>\u001b[0m \u001b[0;36m1\u001b[0m \u001b[0;32mor\u001b[0m \u001b[0mindexer\u001b[0m\u001b[0;34m.\u001b[0m\u001b[0msize\u001b[0m \u001b[0;34m>\u001b[0m \u001b[0;36m1\u001b[0m\u001b[0;34m:\u001b[0m\u001b[0;34m\u001b[0m\u001b[0;34m\u001b[0m\u001b[0m\n",
      "\u001b[0;32mpandas/_libs/index.pyx\u001b[0m in \u001b[0;36mpandas._libs.index.IndexEngine.get_loc\u001b[0;34m()\u001b[0m\n",
      "\u001b[0;32mpandas/_libs/index.pyx\u001b[0m in \u001b[0;36mpandas._libs.index.IndexEngine.get_loc\u001b[0;34m()\u001b[0m\n",
      "\u001b[0;32mpandas/_libs/hashtable_class_helper.pxi\u001b[0m in \u001b[0;36mpandas._libs.hashtable.PyObjectHashTable.get_item\u001b[0;34m()\u001b[0m\n",
      "\u001b[0;32mpandas/_libs/hashtable_class_helper.pxi\u001b[0m in \u001b[0;36mpandas._libs.hashtable.PyObjectHashTable.get_item\u001b[0;34m()\u001b[0m\n",
      "\u001b[0;31mKeyError\u001b[0m: 'review_score'"
     ]
    }
   ],
   "source": [
    "corr_matrix = feat_eng.corr()\n",
    "corr_matrix['review_score'].sort_values(ascending=False)"
   ]
  },
  {
   "cell_type": "code",
   "execution_count": null,
   "metadata": {},
   "outputs": [],
   "source": []
  },
  {
   "cell_type": "code",
   "execution_count": null,
   "metadata": {},
   "outputs": [],
   "source": []
  },
  {
   "cell_type": "code",
   "execution_count": null,
   "metadata": {},
   "outputs": [],
   "source": []
  },
  {
   "cell_type": "code",
   "execution_count": null,
   "metadata": {},
   "outputs": [],
   "source": [
    "feat_eng.columns"
   ]
  },
  {
   "cell_type": "code",
   "execution_count": null,
   "metadata": {},
   "outputs": [],
   "source": [
    "feat_eng=feat_eng[['review_score', \n",
    "                   'product_photos_qty', \n",
    "                   'product_description_lenght', \n",
    "                   'product_weight_g', \n",
    "                   'freight_value', \n",
    "                   'product_height_cm',\n",
    "                   'payment_installments',\n",
    "                   'order_freight_ratio',\n",
    "                   'payment_value',\n",
    "                   'is_late']]\n",
    "\n",
    "\n",
    "# review_score                                  1.000000\n",
    "# product_photos_qty                            0.039225\n",
    "# product_description_lenght                    0.020525\n",
    "# product_weight_g                             -0.029277\n",
    "# freight_value                                -0.029450\n",
    "# product_height_cm                            -0.042216\n",
    "# payment_installments                         -0.048940\n",
    "# order_freight_ratio                          -0.093873\n",
    "# payment_value                                -0.170389\n",
    "# is_late                                      -0.296303"
   ]
  },
  {
   "cell_type": "markdown",
   "metadata": {
    "_uuid": "dd96eee399b4782cbf6312f595bfd0d87e916e99"
   },
   "source": [
    "Looks ok, there aren't any strong correlation. But it is clear that if a customer will give a lower score if he gets an order after the estimated date. \n",
    "\n",
    "## Any missing values?\n",
    "Let's see if there are any missing values."
   ]
  },
  {
   "cell_type": "code",
   "execution_count": null,
   "metadata": {
    "_uuid": "ad7867fbde1ff79a87d1f431e05c1b6f9e9bb03a"
   },
   "outputs": [],
   "source": [
    "feat_eng.info()"
   ]
  },
  {
   "cell_type": "markdown",
   "metadata": {
    "_uuid": "080af983075f2892d540a08860748e2f582d05dc"
   },
   "source": [
    "Great! No missing values after this transformation!\n",
    "\n",
    "# e. Data Viz\n",
    "Now let's visually explore this dataset a little bit!"
   ]
  },
  {
   "cell_type": "markdown",
   "metadata": {
    "_uuid": "b6ed898668040e1eca5bc2dad616494e376ce237"
   },
   "source": [
    "# f. Dealing with Categorical and Numerical Attributes\n",
    "The way we handle categorical data is very different from the transformations needed for numerical features. We will create a transformer to select only categorical or numerical features for processing."
   ]
  },
  {
   "cell_type": "code",
   "execution_count": 176,
   "metadata": {
    "_uuid": "ba534d66cea2510af4dc51176caeae2d97e68f80"
   },
   "outputs": [],
   "source": [
    "# selecting the numerical and text attributes\n",
    "cat_attribs = ['order_status', 'customer_state', 'product_category_name_english']\n",
    "num_attribs = orders_features.drop(cat_attribs, axis=1).columns"
   ]
  },
  {
   "cell_type": "code",
   "execution_count": 177,
   "metadata": {
    "_uuid": "ae5e5212222181ab84dacece728c87761c421785"
   },
   "outputs": [],
   "source": [
    "class DataFrameSelector(BaseEstimator, TransformerMixin):\n",
    "    def __init__(self, attribute_names):\n",
    "        self.attribute_names = attribute_names\n",
    "    \n",
    "    def fit(self, X, y=None):\n",
    "        return self\n",
    "    \n",
    "    def transform(self, X, y=None):\n",
    "        return X[self.attribute_names]"
   ]
  },
  {
   "cell_type": "markdown",
   "metadata": {
    "_uuid": "4cc4189896d5731aedfa94054bac2402a5687d2f"
   },
   "source": [
    "## Numerical Attributes\n",
    "Creating pipelines to handle unseen data"
   ]
  },
  {
   "cell_type": "code",
   "execution_count": 178,
   "metadata": {
    "_uuid": "d24ec4a6163c6cb2a91049cd6568aebd17d409d9"
   },
   "outputs": [],
   "source": [
    "from sklearn.pipeline import Pipeline\n",
    "from sklearn.preprocessing import StandardScaler\n",
    "\n",
    "# for now we wont work with categorical data. Planning to add it on next releases\n",
    "num_pipeline = Pipeline([('selector', DataFrameSelector(num_attribs)),\n",
    "                         ('attribs_adder', AttributesAdder()),\n",
    "                         ('std_scaller', StandardScaler())\n",
    "                        ])"
   ]
  },
  {
   "cell_type": "code",
   "execution_count": 210,
   "metadata": {},
   "outputs": [
    {
     "data": {
      "text/plain": [
       "review_comment_title                                           True\n",
       "review_comment_message                                        False\n",
       "review_creation_date                                          False\n",
       "review_answer_timestamp                                       False\n",
       "order_status                                                  False\n",
       "order_purchase_timestamp                                      False\n",
       "order_approved_at                                             False\n",
       "order_delivered_carrier_date                                  False\n",
       "order_delivered_customer_date                                 False\n",
       "order_estimated_delivery_date                                 False\n",
       "order_purchase_timestamp_order_approved_at                    False\n",
       "order_approved_at_order_delivered_carrier_date                False\n",
       "order_delivered_carrier_date_order_delivered_customer_date    False\n",
       "order_purchase_timestamp_order_delivered_customer_date        False\n",
       "order_purchase_weekday                                        False\n",
       "customer_zip_code_prefix                                      False\n",
       "customer_city                                                 False\n",
       "customer_state                                                False\n",
       "geolocation_zip_code_prefix                                   False\n",
       "geolocation_city                                              False\n",
       "geolocation_state                                             False\n",
       "geolocation_lat                                               False\n",
       "geolocation_lng                                               False\n",
       "shipping_limit_date                                           False\n",
       "price                                                         False\n",
       "freight_value                                                 False\n",
       "seller_zip_code_prefix                                        False\n",
       "seller_city                                                   False\n",
       "seller_state                                                  False\n",
       "product_name_lenght                                           False\n",
       "product_description_lenght                                    False\n",
       "product_photos_qty                                            False\n",
       "product_weight_g                                              False\n",
       "product_length_cm                                             False\n",
       "product_height_cm                                             False\n",
       "product_width_cm                                              False\n",
       "product_category_name_english                                 False\n",
       "payment_sequential                                            False\n",
       "payment_type                                                  False\n",
       "payment_installments                                          False\n",
       "payment_value                                                 False\n",
       "Cluster                                                       False\n",
       "order_aproved_at                                              False\n",
       "dtype: bool"
      ]
     },
     "execution_count": 210,
     "metadata": {},
     "output_type": "execute_result"
    }
   ],
   "source": [
    "orders_features.isin([\"PESSIMA\"]).any(axis=0)"
   ]
  },
  {
   "cell_type": "code",
   "execution_count": 180,
   "metadata": {
    "_uuid": "af2f1eb62ae9bf146ef2d50becc8407a1291366b"
   },
   "outputs": [
    {
     "data": {
      "text/plain": [
       "array([[ 1.14967968e+00,  5.96545001e-01, -4.64149116e-01, ...,\n",
       "         5.10646709e-01,  2.49718070e-01, -2.58706064e-01],\n",
       "       [ 2.96936301e+00, -1.05251332e+00, -4.91339871e-01, ...,\n",
       "        -4.20851147e-01, -4.24930605e-01, -2.58706064e-01],\n",
       "       [ 4.78904633e+00,  1.54792480e+00,  1.31684530e+00, ...,\n",
       "        -2.82693769e-01, -1.48844546e-02, -2.58706064e-01],\n",
       "       ...,\n",
       "       [-6.70003639e-01,  8.23947978e-01, -5.32126002e-01, ...,\n",
       "        -2.44324466e-01, -3.80426544e-01, -2.58706064e-01],\n",
       "       [-6.70003639e-01,  3.59860270e-01, -2.46623081e-01, ...,\n",
       "        -3.22718937e-01, -2.39754392e-03, -2.58706064e-01],\n",
       "       [ 2.96936301e+00,  5.76434534e-01,  9.08983982e-01, ...,\n",
       "        -4.16754730e-01, -2.10209066e-01, -2.58706064e-01]])"
      ]
     },
     "execution_count": 180,
     "metadata": {},
     "output_type": "execute_result"
    }
   ],
   "source": [
    "# lets see how the resulting data looks like\n",
    "orders_features_prepared = num_pipeline.fit_transform(orders_features)\n",
    "orders_features_prepared"
   ]
  },
  {
   "cell_type": "markdown",
   "metadata": {
    "_uuid": "aff98f01e2318f3a84f4267a652b32cf32da9e11"
   },
   "source": [
    "# g. Selecting a Model\n",
    "Start simple.\n",
    "\n",
    "## Linear Regression"
   ]
  },
  {
   "cell_type": "code",
   "execution_count": 181,
   "metadata": {
    "_uuid": "85c9d31f695f121b43ce2a0348ac1d0a23af0c66"
   },
   "outputs": [
    {
     "data": {
      "text/plain": [
       "LinearRegression(copy_X=True, fit_intercept=True, n_jobs=None, normalize=False)"
      ]
     },
     "execution_count": 181,
     "metadata": {},
     "output_type": "execute_result"
    }
   ],
   "source": [
    "from sklearn.linear_model import LinearRegression\n",
    "\n",
    "lin_reg = LinearRegression()\n",
    "lin_reg.fit(orders_features_prepared, orders_labels)"
   ]
  },
  {
   "cell_type": "code",
   "execution_count": 182,
   "metadata": {
    "_uuid": "a7ef87d5770e74ee2e6e88aef873c1528868c4ce"
   },
   "outputs": [],
   "source": [
    "some_data = orders_features.iloc[:8]\n",
    "some_labels = orders_labels.iloc[:8]\n",
    "some_data_prepared = num_pipeline.transform(some_data)"
   ]
  },
  {
   "cell_type": "code",
   "execution_count": 183,
   "metadata": {
    "_uuid": "217172f7a04ee0cc66ee72af4140a02d877999c3"
   },
   "outputs": [
    {
     "name": "stdout",
     "output_type": "stream",
     "text": [
      "Predicted: [4.029677857430728, 4.26922929851844, 4.171760061584102, 4.144235254267925, 3.7580972038674605, 4.045171746456298, 4.099355961911092, 4.155273807815974] \n",
      " Labels: [4, 5, 5, 4, 2, 5, 5, 1]\n"
     ]
    }
   ],
   "source": [
    "print('Predicted: {} \\n Labels: {}'.format(list(lin_reg.predict(some_data_prepared)), list(some_labels.values)))"
   ]
  },
  {
   "cell_type": "markdown",
   "metadata": {
    "_uuid": "b4ad6c4408d3040fc0b3007a844d2d259f52acba"
   },
   "source": [
    "Looks like we are not even close to predicting the right values. Lets see whats the root mean squared error."
   ]
  },
  {
   "cell_type": "code",
   "execution_count": 184,
   "metadata": {
    "_uuid": "6c3beffcc45d7f2738d0c0ab8e3544fd6235d1aa"
   },
   "outputs": [
    {
     "data": {
      "text/plain": [
       "1.38933053798585"
      ]
     },
     "execution_count": 184,
     "metadata": {},
     "output_type": "execute_result"
    }
   ],
   "source": [
    "from sklearn.metrics import mean_squared_error\n",
    "\n",
    "predictions = lin_reg.predict(orders_features_prepared)\n",
    "lin_mse = mean_squared_error(orders_labels, predictions)\n",
    "lin_rmse = np.sqrt(lin_mse)\n",
    "lin_rmse"
   ]
  },
  {
   "cell_type": "markdown",
   "metadata": {
    "_kg_hide-input": true,
    "_uuid": "f46e28de068384f83cd86e6771414d734ad603ca"
   },
   "source": [
    "A typical prediction error of about 1.25 is not at all satisfying when we are trying to predict values that range from 1 to 5.  So let's try a different model."
   ]
  },
  {
   "cell_type": "code",
   "execution_count": 196,
   "metadata": {
    "_uuid": "4a2d5807462bd9d8f7563db2399e1ccb95212f79"
   },
   "outputs": [
    {
     "name": "stderr",
     "output_type": "stream",
     "text": [
      "/Users/shailazaman/opt/anaconda3/lib/python3.7/site-packages/sklearn/ensemble/forest.py:245: FutureWarning: The default value of n_estimators will change from 10 in version 0.20 to 100 in 0.22.\n",
      "  \"10 in version 0.20 to 100 in 0.22.\", FutureWarning)\n"
     ]
    },
    {
     "data": {
      "text/plain": [
       "0.49387521591599237"
      ]
     },
     "execution_count": 196,
     "metadata": {},
     "output_type": "execute_result"
    }
   ],
   "source": [
    "from sklearn.ensemble import RandomForestRegressor\n",
    "\n",
    "forest_reg = RandomForestRegressor()\n",
    "forest_reg.fit(orders_features_prepared, orders_labels)\n",
    "\n",
    "predictions = forest_reg.predict(orders_features_prepared)\n",
    "forest_mse = mean_squared_error(orders_labels, predictions)\n",
    "forest_rmse = np.sqrt(forest_mse)\n",
    "forest_rmse"
   ]
  },
  {
   "cell_type": "code",
   "execution_count": 197,
   "metadata": {},
   "outputs": [
    {
     "data": {
      "text/html": [
       "<div>\n",
       "<style scoped>\n",
       "    .dataframe tbody tr th:only-of-type {\n",
       "        vertical-align: middle;\n",
       "    }\n",
       "\n",
       "    .dataframe tbody tr th {\n",
       "        vertical-align: top;\n",
       "    }\n",
       "\n",
       "    .dataframe thead th {\n",
       "        text-align: right;\n",
       "    }\n",
       "</style>\n",
       "<table border=\"1\" class=\"dataframe\">\n",
       "  <thead>\n",
       "    <tr style=\"text-align: right;\">\n",
       "      <th></th>\n",
       "      <th>Actual</th>\n",
       "      <th>Prediction</th>\n",
       "      <th>Difference</th>\n",
       "    </tr>\n",
       "  </thead>\n",
       "  <tbody>\n",
       "    <tr>\n",
       "      <td>0</td>\n",
       "      <td>4</td>\n",
       "      <td>4.00</td>\n",
       "      <td>0.00</td>\n",
       "    </tr>\n",
       "    <tr>\n",
       "      <td>1</td>\n",
       "      <td>5</td>\n",
       "      <td>4.18</td>\n",
       "      <td>0.82</td>\n",
       "    </tr>\n",
       "    <tr>\n",
       "      <td>2</td>\n",
       "      <td>5</td>\n",
       "      <td>5.00</td>\n",
       "      <td>0.00</td>\n",
       "    </tr>\n",
       "    <tr>\n",
       "      <td>3</td>\n",
       "      <td>4</td>\n",
       "      <td>3.90</td>\n",
       "      <td>0.10</td>\n",
       "    </tr>\n",
       "    <tr>\n",
       "      <td>4</td>\n",
       "      <td>2</td>\n",
       "      <td>2.30</td>\n",
       "      <td>-0.30</td>\n",
       "    </tr>\n",
       "    <tr>\n",
       "      <td>...</td>\n",
       "      <td>...</td>\n",
       "      <td>...</td>\n",
       "      <td>...</td>\n",
       "    </tr>\n",
       "    <tr>\n",
       "      <td>123444</td>\n",
       "      <td>5</td>\n",
       "      <td>5.00</td>\n",
       "      <td>0.00</td>\n",
       "    </tr>\n",
       "    <tr>\n",
       "      <td>123445</td>\n",
       "      <td>1</td>\n",
       "      <td>1.00</td>\n",
       "      <td>0.00</td>\n",
       "    </tr>\n",
       "    <tr>\n",
       "      <td>123446</td>\n",
       "      <td>5</td>\n",
       "      <td>5.00</td>\n",
       "      <td>0.00</td>\n",
       "    </tr>\n",
       "    <tr>\n",
       "      <td>123447</td>\n",
       "      <td>5</td>\n",
       "      <td>5.00</td>\n",
       "      <td>0.00</td>\n",
       "    </tr>\n",
       "    <tr>\n",
       "      <td>123448</td>\n",
       "      <td>4</td>\n",
       "      <td>4.20</td>\n",
       "      <td>-0.20</td>\n",
       "    </tr>\n",
       "  </tbody>\n",
       "</table>\n",
       "<p>123449 rows × 3 columns</p>\n",
       "</div>"
      ],
      "text/plain": [
       "        Actual  Prediction  Difference\n",
       "0            4        4.00        0.00\n",
       "1            5        4.18        0.82\n",
       "2            5        5.00        0.00\n",
       "3            4        3.90        0.10\n",
       "4            2        2.30       -0.30\n",
       "...        ...         ...         ...\n",
       "123444       5        5.00        0.00\n",
       "123445       1        1.00        0.00\n",
       "123446       5        5.00        0.00\n",
       "123447       5        5.00        0.00\n",
       "123448       4        4.20       -0.20\n",
       "\n",
       "[123449 rows x 3 columns]"
      ]
     },
     "execution_count": 197,
     "metadata": {},
     "output_type": "execute_result"
    }
   ],
   "source": [
    "result_df = pd.DataFrame(list(zip(orders_labels, predictions, orders_labels-predictions)), columns =['Actual', 'Prediction', 'Difference']) \n",
    "result_df"
   ]
  },
  {
   "cell_type": "code",
   "execution_count": 198,
   "metadata": {},
   "outputs": [],
   "source": [
    "result_df.to_csv('../../Data/curated-data/rf_regressor_result.csv')"
   ]
  },
  {
   "cell_type": "code",
   "execution_count": null,
   "metadata": {},
   "outputs": [],
   "source": []
  },
  {
   "cell_type": "code",
   "execution_count": null,
   "metadata": {},
   "outputs": [],
   "source": []
  },
  {
   "cell_type": "code",
   "execution_count": null,
   "metadata": {},
   "outputs": [],
   "source": []
  },
  {
   "cell_type": "code",
   "execution_count": null,
   "metadata": {},
   "outputs": [],
   "source": []
  },
  {
   "cell_type": "code",
   "execution_count": 207,
   "metadata": {},
   "outputs": [
    {
     "name": "stderr",
     "output_type": "stream",
     "text": [
      "/Users/shailazaman/opt/anaconda3/lib/python3.7/site-packages/sklearn/ensemble/forest.py:245: FutureWarning: The default value of n_estimators will change from 10 in version 0.20 to 100 in 0.22.\n",
      "  \"10 in version 0.20 to 100 in 0.22.\", FutureWarning)\n"
     ]
    },
    {
     "data": {
      "text/plain": [
       "0.953365357354049"
      ]
     },
     "execution_count": 207,
     "metadata": {},
     "output_type": "execute_result"
    }
   ],
   "source": [
    "from sklearn.ensemble import RandomForestClassifier\n",
    "from sklearn.metrics import accuracy_score\n",
    "\n",
    "forest_reg = RandomForestClassifier()\n",
    "forest_reg.fit(orders_features_prepared, orders_labels)\n",
    "\n",
    "predictions = forest_reg.predict(orders_features_prepared)\n",
    "accuracy = accuracy_score(orders_labels, predictions)\n",
    "accuracy"
   ]
  },
  {
   "cell_type": "code",
   "execution_count": 208,
   "metadata": {},
   "outputs": [
    {
     "data": {
      "text/html": [
       "<div>\n",
       "<style scoped>\n",
       "    .dataframe tbody tr th:only-of-type {\n",
       "        vertical-align: middle;\n",
       "    }\n",
       "\n",
       "    .dataframe tbody tr th {\n",
       "        vertical-align: top;\n",
       "    }\n",
       "\n",
       "    .dataframe thead th {\n",
       "        text-align: right;\n",
       "    }\n",
       "</style>\n",
       "<table border=\"1\" class=\"dataframe\">\n",
       "  <thead>\n",
       "    <tr style=\"text-align: right;\">\n",
       "      <th></th>\n",
       "      <th>Actual</th>\n",
       "      <th>Prediction</th>\n",
       "      <th>isAccurate</th>\n",
       "    </tr>\n",
       "  </thead>\n",
       "  <tbody>\n",
       "    <tr>\n",
       "      <td>0</td>\n",
       "      <td>4</td>\n",
       "      <td>4</td>\n",
       "      <td>True</td>\n",
       "    </tr>\n",
       "    <tr>\n",
       "      <td>1</td>\n",
       "      <td>5</td>\n",
       "      <td>5</td>\n",
       "      <td>True</td>\n",
       "    </tr>\n",
       "    <tr>\n",
       "      <td>2</td>\n",
       "      <td>5</td>\n",
       "      <td>5</td>\n",
       "      <td>True</td>\n",
       "    </tr>\n",
       "    <tr>\n",
       "      <td>3</td>\n",
       "      <td>4</td>\n",
       "      <td>4</td>\n",
       "      <td>True</td>\n",
       "    </tr>\n",
       "    <tr>\n",
       "      <td>4</td>\n",
       "      <td>2</td>\n",
       "      <td>2</td>\n",
       "      <td>True</td>\n",
       "    </tr>\n",
       "    <tr>\n",
       "      <td>...</td>\n",
       "      <td>...</td>\n",
       "      <td>...</td>\n",
       "      <td>...</td>\n",
       "    </tr>\n",
       "    <tr>\n",
       "      <td>123444</td>\n",
       "      <td>5</td>\n",
       "      <td>5</td>\n",
       "      <td>True</td>\n",
       "    </tr>\n",
       "    <tr>\n",
       "      <td>123445</td>\n",
       "      <td>1</td>\n",
       "      <td>1</td>\n",
       "      <td>True</td>\n",
       "    </tr>\n",
       "    <tr>\n",
       "      <td>123446</td>\n",
       "      <td>5</td>\n",
       "      <td>5</td>\n",
       "      <td>True</td>\n",
       "    </tr>\n",
       "    <tr>\n",
       "      <td>123447</td>\n",
       "      <td>5</td>\n",
       "      <td>5</td>\n",
       "      <td>True</td>\n",
       "    </tr>\n",
       "    <tr>\n",
       "      <td>123448</td>\n",
       "      <td>4</td>\n",
       "      <td>4</td>\n",
       "      <td>True</td>\n",
       "    </tr>\n",
       "  </tbody>\n",
       "</table>\n",
       "<p>123449 rows × 3 columns</p>\n",
       "</div>"
      ],
      "text/plain": [
       "        Actual  Prediction  isAccurate\n",
       "0            4           4        True\n",
       "1            5           5        True\n",
       "2            5           5        True\n",
       "3            4           4        True\n",
       "4            2           2        True\n",
       "...        ...         ...         ...\n",
       "123444       5           5        True\n",
       "123445       1           1        True\n",
       "123446       5           5        True\n",
       "123447       5           5        True\n",
       "123448       4           4        True\n",
       "\n",
       "[123449 rows x 3 columns]"
      ]
     },
     "execution_count": 208,
     "metadata": {},
     "output_type": "execute_result"
    }
   ],
   "source": [
    "result_df = pd.DataFrame(list(zip(orders_labels, predictions, orders_labels==predictions)), columns =['Actual', 'Prediction', 'isAccurate']) \n",
    "result_df"
   ]
  },
  {
   "cell_type": "code",
   "execution_count": 202,
   "metadata": {},
   "outputs": [],
   "source": [
    "result_df.to_csv('../../Data/curated-data/rf_classifier_result.csv')"
   ]
  },
  {
   "cell_type": "markdown",
   "metadata": {
    "_uuid": "93c9248d48cfeb91564f55a5e71bcb99bce73aaf"
   },
   "source": [
    "Much better! We got a typical error of 0.53 with Random Forest. Looks like it's a good algorithm! Let's see some examples of predictions."
   ]
  },
  {
   "cell_type": "code",
   "execution_count": 204,
   "metadata": {
    "_uuid": "b6f768a4bd3ca40f0ed279a0cb88e0b097ecf770"
   },
   "outputs": [
    {
     "name": "stdout",
     "output_type": "stream",
     "text": [
      "Predicted: [4, 5, 5, 4, 2, 5, 5, 3] \n",
      " Labels: [4, 5, 5, 4, 2, 5, 5, 1]\n"
     ]
    }
   ],
   "source": [
    "print('Predicted: {} \\n Labels: {}'.format(list(forest_reg.predict(some_data_prepared)), list(some_labels.values)))"
   ]
  },
  {
   "cell_type": "code",
   "execution_count": null,
   "metadata": {},
   "outputs": [],
   "source": []
  },
  {
   "cell_type": "code",
   "execution_count": 211,
   "metadata": {},
   "outputs": [
    {
     "data": {
      "image/png": "[encoded data removed]",
      "text/plain": [
       "<Figure size 432x288 with 2 Axes>"
      ]
     },
     "metadata": {
      "needs_background": "light"
     },
     "output_type": "display_data"
    }
   ],
   "source": [
    "from sklearn.metrics import confusion_matrix\n",
    "\n",
    "confusion_mat = confusion_matrix(orders_labels, predictions)\n",
    "sns.heatmap(confusion_mat)\n",
    "plt.show()"
   ]
  },
  {
   "cell_type": "code",
   "execution_count": null,
   "metadata": {},
   "outputs": [],
   "source": []
  },
  {
   "cell_type": "code",
   "execution_count": null,
   "metadata": {},
   "outputs": [],
   "source": []
  },
  {
   "cell_type": "code",
   "execution_count": null,
   "metadata": {},
   "outputs": [],
   "source": []
  },
  {
   "cell_type": "code",
   "execution_count": null,
   "metadata": {},
   "outputs": [],
   "source": []
  },
  {
   "cell_type": "markdown",
   "metadata": {
    "_uuid": "0fbe8d1babc6d5bb147c7234e782fb2a5bbc1db1"
   },
   "source": [
    "# Next steps\n",
    "\n",
    "1. Cross validation\n",
    "2. Grid search\n",
    "3. Full pipeline - transform and predict data\n",
    "4. Validation on test set\n",
    "5. Constructing a conclusion"
   ]
  },
  {
   "cell_type": "code",
   "execution_count": null,
   "metadata": {
    "_uuid": "f3edb75777b9e7bddbaf407e125f9952f531823a"
   },
   "outputs": [],
   "source": []
  },
  {
   "cell_type": "code",
   "execution_count": null,
   "metadata": {},
   "outputs": [],
   "source": []
  }
 ],
 "metadata": {
  "kernelspec": {
   "display_name": "Python 3",
   "language": "python",
   "name": "python3"
  },
  "language_info": {
   "codemirror_mode": {
    "name": "ipython",
    "version": 3
   },
   "file_extension": ".py",
   "mimetype": "text/x-python",
   "name": "python",
   "nbconvert_exporter": "python",
   "pygments_lexer": "ipython3",
   "version": "3.7.4"
  }
 },
 "nbformat": 4,
 "nbformat_minor": 4
}
